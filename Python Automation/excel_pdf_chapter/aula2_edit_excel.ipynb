{
 "cells": [
  {
   "cell_type": "code",
   "execution_count": 3,
   "id": "5a0de7c9",
   "metadata": {},
   "outputs": [
    {
     "data": {
      "text/plain": [
       "['Sheet']"
      ]
     },
     "execution_count": 3,
     "metadata": {},
     "output_type": "execute_result"
    }
   ],
   "source": [
    "import openpyxl, os\n",
    "\n",
    "wb = openpyxl.Workbook()\n",
    "wb.sheetnames"
   ]
  },
  {
   "cell_type": "code",
   "execution_count": 4,
   "id": "77531558",
   "metadata": {},
   "outputs": [],
   "source": [
    "sheet = wb['Sheet']\n",
    "\n",
    "sheet['A1'] = 'Hello'\n",
    "sheet['A2'] = 'World'\n",
    "\n",
    "wb.save('hello_world.xlsx')\n",
    "wb.close()\n"
   ]
  },
  {
   "cell_type": "code",
   "execution_count": 7,
   "id": "a531c691",
   "metadata": {},
   "outputs": [],
   "source": [
    "sheet2 = wb.create_sheet('Sheet2')\n",
    "sheet2['A1'] = 'This is Sheet2'\n",
    "sheet2.title = 'NewSheet'\n",
    "\n",
    "wb.sheetnames\n",
    "wb.save('hello_world_updated.xlsx')\n",
    "wb.close()"
   ]
  }
 ],
 "metadata": {
  "kernelspec": {
   "display_name": "Python 3",
   "language": "python",
   "name": "python3"
  },
  "language_info": {
   "codemirror_mode": {
    "name": "ipython",
    "version": 3
   },
   "file_extension": ".py",
   "mimetype": "text/x-python",
   "name": "python",
   "nbconvert_exporter": "python",
   "pygments_lexer": "ipython3",
   "version": "3.11.3"
  }
 },
 "nbformat": 4,
 "nbformat_minor": 5
}
