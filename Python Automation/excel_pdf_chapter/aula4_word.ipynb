{
 "cells": [
  {
   "cell_type": "code",
   "execution_count": 1,
   "id": "f8eae4d4",
   "metadata": {},
   "outputs": [
    {
     "name": "stdout",
     "output_type": "stream",
     "text": [
      "Collecting python-docx\n",
      "  Downloading python_docx-1.1.2-py3-none-any.whl.metadata (2.0 kB)\n",
      "Collecting lxml>=3.1.0 (from python-docx)\n",
      "  Downloading lxml-5.4.0-cp311-cp311-win_amd64.whl.metadata (3.6 kB)\n",
      "Requirement already satisfied: typing-extensions>=4.9.0 in c:\\users\\lenovo\\appdata\\local\\programs\\python\\python311\\lib\\site-packages (from python-docx) (4.13.2)\n",
      "Downloading python_docx-1.1.2-py3-none-any.whl (244 kB)\n",
      "Downloading lxml-5.4.0-cp311-cp311-win_amd64.whl (3.8 MB)\n",
      "   ---------------------------------------- 0.0/3.8 MB ? eta -:--:--\n",
      "   -- ------------------------------------- 0.3/3.8 MB ? eta -:--:--\n",
      "   ----- ---------------------------------- 0.5/3.8 MB 1.7 MB/s eta 0:00:02\n",
      "   -------- ------------------------------- 0.8/3.8 MB 1.2 MB/s eta 0:00:03\n",
      "   ---------- ----------------------------- 1.0/3.8 MB 1.2 MB/s eta 0:00:03\n",
      "   ------------- -------------------------- 1.3/3.8 MB 1.2 MB/s eta 0:00:03\n",
      "   ---------------- ----------------------- 1.6/3.8 MB 1.2 MB/s eta 0:00:02\n",
      "   ------------------- -------------------- 1.8/3.8 MB 1.2 MB/s eta 0:00:02\n",
      "   --------------------- ------------------ 2.1/3.8 MB 1.3 MB/s eta 0:00:02\n",
      "   ------------------------ --------------- 2.4/3.8 MB 1.3 MB/s eta 0:00:02\n",
      "   ------------------------------ --------- 2.9/3.8 MB 1.3 MB/s eta 0:00:01\n",
      "   ------------------------------ --------- 2.9/3.8 MB 1.3 MB/s eta 0:00:01\n",
      "   -------------------------------- ------- 3.1/3.8 MB 1.3 MB/s eta 0:00:01\n",
      "   ----------------------------------- ---- 3.4/3.8 MB 1.2 MB/s eta 0:00:01\n",
      "   ----------------------------------- ---- 3.4/3.8 MB 1.2 MB/s eta 0:00:01\n",
      "   ---------------------------------------- 3.8/3.8 MB 1.2 MB/s eta 0:00:00\n",
      "Installing collected packages: lxml, python-docx\n",
      "Successfully installed lxml-5.4.0 python-docx-1.1.2\n",
      "Note: you may need to restart the kernel to use updated packages.\n"
     ]
    },
    {
     "name": "stderr",
     "output_type": "stream",
     "text": [
      "\n",
      "[notice] A new release of pip is available: 24.2 -> 25.1.1\n",
      "[notice] To update, run: python.exe -m pip install --upgrade pip\n"
     ]
    }
   ],
   "source": [
    "%pip install python-docx"
   ]
  },
  {
   "cell_type": "code",
   "execution_count": 6,
   "id": "e78b9774",
   "metadata": {},
   "outputs": [
    {
     "data": {
      "text/plain": [
       "'Document Title'"
      ]
     },
     "execution_count": 6,
     "metadata": {},
     "output_type": "execute_result"
    }
   ],
   "source": [
    "import docx, os\n",
    "\n",
    "d = docx.Document('demo.docx')\n",
    "d.paragraphs[0].text"
   ]
  },
  {
   "cell_type": "code",
   "execution_count": 11,
   "id": "08577db3",
   "metadata": {},
   "outputs": [],
   "source": [
    "p = d.paragraphs[1]"
   ]
  },
  {
   "cell_type": "code",
   "execution_count": 12,
   "id": "0f28393d",
   "metadata": {},
   "outputs": [
    {
     "data": {
      "text/plain": [
       "[<docx.text.run.Run at 0x25fe1f58690>,\n",
       " <docx.text.run.Run at 0x25fe1f59650>,\n",
       " <docx.text.run.Run at 0x25fe1f5bb90>,\n",
       " <docx.text.run.Run at 0x25fe1f58a90>]"
      ]
     },
     "execution_count": 12,
     "metadata": {},
     "output_type": "execute_result"
    }
   ],
   "source": [
    "p.runs"
   ]
  },
  {
   "cell_type": "code",
   "execution_count": 15,
   "id": "4006c305",
   "metadata": {},
   "outputs": [
    {
     "data": {
      "text/plain": [
       "'bold'"
      ]
     },
     "execution_count": 15,
     "metadata": {},
     "output_type": "execute_result"
    }
   ],
   "source": [
    "p.runs[1].text"
   ]
  },
  {
   "cell_type": "code",
   "execution_count": 17,
   "id": "221433ba",
   "metadata": {},
   "outputs": [],
   "source": [
    "p.runs[0].text = 'This is a new text for the first run.'\n",
    "d.save('demo_modified.docx')"
   ]
  },
  {
   "cell_type": "code",
   "execution_count": 18,
   "id": "9f42906a",
   "metadata": {},
   "outputs": [],
   "source": [
    "p.style = 'Heading 1'\n",
    "d.save('demo_modified_heading.docx')"
   ]
  },
  {
   "cell_type": "code",
   "execution_count": 19,
   "id": "5fdeaa09",
   "metadata": {},
   "outputs": [],
   "source": [
    "d = docx.Document()\n",
    "d.add_paragraph('Paragraph 1')\n",
    "d.add_paragraph('Paragraph 2', style='Heading 2')\n",
    "d.add_paragraph('Paragraph 3', style='List Bullet')\n",
    "\n",
    "d.save('demo_new.docx')"
   ]
  }
 ],
 "metadata": {
  "kernelspec": {
   "display_name": "Python 3",
   "language": "python",
   "name": "python3"
  },
  "language_info": {
   "codemirror_mode": {
    "name": "ipython",
    "version": 3
   },
   "file_extension": ".py",
   "mimetype": "text/x-python",
   "name": "python",
   "nbconvert_exporter": "python",
   "pygments_lexer": "ipython3",
   "version": "3.11.3"
  }
 },
 "nbformat": 4,
 "nbformat_minor": 5
}
