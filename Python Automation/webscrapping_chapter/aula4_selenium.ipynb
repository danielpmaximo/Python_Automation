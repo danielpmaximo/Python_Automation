{
 "cells": [
  {
   "cell_type": "code",
   "execution_count": 9,
   "id": "c4cec09f",
   "metadata": {},
   "outputs": [],
   "source": [
    "from selenium import webdriver\n",
    "from selenium.webdriver.common.by import By\n",
    "\n",
    "browser = webdriver.Firefox()\n",
    "browser.get('https://automatetheboringstuff.com')\n",
    "\n",
    "elem = browser.find_element(By.CSS_SELECTOR, '.main > main:nth-child(1) > div:nth-child(1) > ul:nth-child(22) > li:nth-child(1) > a:nth-child(1)')\n",
    "elem\n",
    "\n",
    "# Scroll the element into view before clicking\n",
    "browser.execute_script(\"arguments[0].scrollIntoView(true);\", elem)\n",
    "elem.click()"
   ]
  }
 ],
 "metadata": {
  "kernelspec": {
   "display_name": "Python 3",
   "language": "python",
   "name": "python3"
  },
  "language_info": {
   "codemirror_mode": {
    "name": "ipython",
    "version": 3
   },
   "file_extension": ".py",
   "mimetype": "text/x-python",
   "name": "python",
   "nbconvert_exporter": "python",
   "pygments_lexer": "ipython3",
   "version": "3.11.3"
  }
 },
 "nbformat": 4,
 "nbformat_minor": 5
}
