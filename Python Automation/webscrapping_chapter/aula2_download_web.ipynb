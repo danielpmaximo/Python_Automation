{
 "cells": [
  {
   "cell_type": "code",
   "execution_count": 6,
   "id": "76dadca9",
   "metadata": {},
   "outputs": [],
   "source": [
    "import requests\n",
    "\n",
    "res = requests.get('https://automatetheboringstuff.com/files/rj.txt')\n",
    "res.raise_for_status()  # Check for request errors"
   ]
  },
  {
   "cell_type": "code",
   "execution_count": null,
   "id": "947cb039",
   "metadata": {},
   "outputs": [
    {
     "data": {
      "text/plain": [
       "200"
      ]
     },
     "execution_count": 7,
     "metadata": {},
     "output_type": "execute_result"
    }
   ],
   "source": [
    "res.status_code\n",
    "# 200 means the request was successful"
   ]
  },
  {
   "cell_type": "code",
   "execution_count": 10,
   "id": "54bc081d",
   "metadata": {},
   "outputs": [],
   "source": [
    "playFile = open('RomeoAndJuliet.txt', 'wb')  # Open a file in binary write mode\n",
    "\n",
    "for chunk in res.iter_content(100000):  # Download the file in chunks\n",
    "    playFile.write(chunk)  # Write each chunk to the file\n",
    "playFile.close()  # Close the file after writing"
   ]
  }
 ],
 "metadata": {
  "kernelspec": {
   "display_name": "Python 3",
   "language": "python",
   "name": "python3"
  },
  "language_info": {
   "codemirror_mode": {
    "name": "ipython",
    "version": 3
   },
   "file_extension": ".py",
   "mimetype": "text/x-python",
   "name": "python",
   "nbconvert_exporter": "python",
   "pygments_lexer": "ipython3",
   "version": "3.11.3"
  }
 },
 "nbformat": 4,
 "nbformat_minor": 5
}
