{
 "cells": [
  {
   "cell_type": "code",
   "execution_count": 2,
   "id": "3783a874",
   "metadata": {},
   "outputs": [
    {
     "data": {
      "text/plain": [
       "True"
      ]
     },
     "execution_count": 2,
     "metadata": {},
     "output_type": "execute_result"
    }
   ],
   "source": [
    "import webbrowser\n",
    "\n",
    "webbrowser.open(\"www.google.com\", new=2)  # Open in a new tab, if possible"
   ]
  },
  {
   "cell_type": "code",
   "execution_count": null,
   "id": "d80c8506",
   "metadata": {},
   "outputs": [],
   "source": [
    "# MAPIT is a simple script to open a web browser to a specific URL."
   ]
  }
 ],
 "metadata": {
  "kernelspec": {
   "display_name": "Python 3",
   "language": "python",
   "name": "python3"
  },
  "language_info": {
   "codemirror_mode": {
    "name": "ipython",
    "version": 3
   },
   "file_extension": ".py",
   "mimetype": "text/x-python",
   "name": "python",
   "nbconvert_exporter": "python",
   "pygments_lexer": "ipython3",
   "version": "3.11.3"
  }
 },
 "nbformat": 4,
 "nbformat_minor": 5
}
