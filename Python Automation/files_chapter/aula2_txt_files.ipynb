{
 "cells": [
  {
   "cell_type": "code",
   "execution_count": 1,
   "id": "cbdf1e68",
   "metadata": {},
   "outputs": [
    {
     "name": "stdout",
     "output_type": "stream",
     "text": [
      "hello\n"
     ]
    }
   ],
   "source": [
    "# This code opens a text file, writes some content to it, and then reads the content back.\n",
    "helloFile = open('C:\\\\Users\\\\LENOVO\\\\OneDrive\\\\Área de Trabalho\\\\Python Automation\\\\hello.txt') # Opens the file in read mode\n",
    "\n",
    "print(helloFile.read()) # Reads the content of the file\n",
    "helloFile.close() # Closes the file"
   ]
  },
  {
   "cell_type": "code",
   "execution_count": 4,
   "id": "5bbee184",
   "metadata": {},
   "outputs": [
    {
     "name": "stdout",
     "output_type": "stream",
     "text": [
      "Hello, world!\n",
      "This is a new file created by Python.\n",
      "\n"
     ]
    }
   ],
   "source": [
    "# This code opens a text file, writes some content to it, and then reads the content back.\n",
    "# Opens the file in write mode, creating it if it doesn't exist\n",
    "helloFile = open('C:\\\\Users\\\\LENOVO\\\\OneDrive\\\\Área de Trabalho\\\\Python Automation\\\\hello2.txt', 'w')\n",
    "helloFile.write('Hello, world!\\n')\n",
    "helloFile.write('This is a new file created by Python.\\n')\n",
    "helloFile.close()\n",
    "\n",
    "# Reopens the file in read mode to check the content\n",
    "with open('C:\\\\Users\\\\LENOVO\\\\OneDrive\\\\Área de Trabalho\\\\Python Automation\\\\hello2.txt', 'r') as helloFileRead:\n",
    "\tprint(helloFileRead.read())"
   ]
  }
 ],
 "metadata": {
  "kernelspec": {
   "display_name": "Python 3",
   "language": "python",
   "name": "python3"
  },
  "language_info": {
   "codemirror_mode": {
    "name": "ipython",
    "version": 3
   },
   "file_extension": ".py",
   "mimetype": "text/x-python",
   "name": "python",
   "nbconvert_exporter": "python",
   "pygments_lexer": "ipython3",
   "version": "3.11.3"
  }
 },
 "nbformat": 4,
 "nbformat_minor": 5
}
