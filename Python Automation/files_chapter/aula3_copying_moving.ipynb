{
 "cells": [
  {
   "cell_type": "code",
   "execution_count": 1,
   "id": "2a43d29f",
   "metadata": {},
   "outputs": [],
   "source": [
    "import shutil"
   ]
  },
  {
   "cell_type": "code",
   "execution_count": null,
   "id": "6695b015",
   "metadata": {},
   "outputs": [
    {
     "data": {
      "text/plain": [
       "'C:\\\\Users\\\\LENOVO\\\\OneDrive\\\\Área de Trabalho\\\\Python Automation\\\\files_chapter\\\\hello.txt'"
      ]
     },
     "execution_count": 5,
     "metadata": {},
     "output_type": "execute_result"
    }
   ],
   "source": [
    "# Copying a file from one location to another\n",
    "shutil.copyfile('C:\\\\Users\\\\LENOVO\\\\OneDrive\\\\Área de Trabalho\\\\Python Automation\\\\hello.txt', \n",
    "                'C:\\\\Users\\\\LENOVO\\\\OneDrive\\\\Área de Trabalho\\\\Python Automation\\\\files_chapter\\\\hello.txt')"
   ]
  },
  {
   "cell_type": "code",
   "execution_count": null,
   "id": "7aee62b7",
   "metadata": {},
   "outputs": [
    {
     "data": {
      "text/plain": [
       "'C:\\\\files_chapter_copy'"
      ]
     },
     "execution_count": 6,
     "metadata": {},
     "output_type": "execute_result"
    }
   ],
   "source": [
    "# Copying a directory\n",
    "shutil.copytree('C:\\\\Users\\\\LENOVO\\\\OneDrive\\\\Área de Trabalho\\\\Python Automation\\\\files_chapter',\n",
    "                'C:\\\\files_chapter_copy')"
   ]
  },
  {
   "cell_type": "code",
   "execution_count": null,
   "id": "8ee59ee6",
   "metadata": {},
   "outputs": [
    {
     "data": {
      "text/plain": [
       "'C:\\\\Users\\\\LENOVO\\\\OneDrive\\\\Área de Trabalho\\\\Python Automation\\\\files_chapter\\\\hello_new_name.txt'"
      ]
     },
     "execution_count": 7,
     "metadata": {},
     "output_type": "execute_result"
    }
   ],
   "source": [
    "# Copying a file to a new location with a different name\n",
    "shutil.move('C:\\\\Users\\\\LENOVO\\\\OneDrive\\\\Área de Trabalho\\\\Python Automation\\\\hello.txt', \n",
    "                'C:\\\\Users\\\\LENOVO\\\\OneDrive\\\\Área de Trabalho\\\\Python Automation\\\\files_chapter\\\\hello_new_name.txt')"
   ]
  }
 ],
 "metadata": {
  "kernelspec": {
   "display_name": "Python 3",
   "language": "python",
   "name": "python3"
  },
  "language_info": {
   "codemirror_mode": {
    "name": "ipython",
    "version": 3
   },
   "file_extension": ".py",
   "mimetype": "text/x-python",
   "name": "python",
   "nbconvert_exporter": "python",
   "pygments_lexer": "ipython3",
   "version": "3.11.3"
  }
 },
 "nbformat": 4,
 "nbformat_minor": 5
}
