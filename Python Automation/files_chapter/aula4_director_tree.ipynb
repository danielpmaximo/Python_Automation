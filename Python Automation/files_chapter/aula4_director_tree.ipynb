{
 "cells": [
  {
   "cell_type": "code",
   "execution_count": null,
   "id": "34611a7b",
   "metadata": {},
   "outputs": [
    {
     "name": "stdout",
     "output_type": "stream",
     "text": [
      "Current folder: C:\\Users\\LENOVO\\OneDrive\\Área de Trabalho\\Python Automation\n",
      "Subfolder of C:\\Users\\LENOVO\\OneDrive\\Área de Trabalho\\Python Automation: files_chapter\n",
      "Subfolder of C:\\Users\\LENOVO\\OneDrive\\Área de Trabalho\\Python Automation: regex_chapter\n",
      "File inside this folder: hello2.txt\n",
      "\n",
      "Current folder: C:\\Users\\LENOVO\\OneDrive\\Área de Trabalho\\Python Automation\\files_chapter\n",
      "File inside this folder: aula1_files_folders.py\n",
      "File inside this folder: aula2_txt_files.ipynb\n",
      "File inside this folder: aula3_copying_moving.ipynb\n",
      "File inside this folder: aula3_delete.ipynb\n",
      "File inside this folder: aula4_director_tree.ipynb\n",
      "File inside this folder: hello.txt\n",
      "File inside this folder: hello_new_name.txt\n",
      "\n",
      "Current folder: C:\\Users\\LENOVO\\OneDrive\\Área de Trabalho\\Python Automation\\regex_chapter\n",
      "File inside this folder: phoneAndEmail.py\n",
      "File inside this folder: regex1.py\n",
      "File inside this folder: regexHello.py\n",
      "File inside this folder: regexSub.py\n",
      "\n"
     ]
    }
   ],
   "source": [
    "import os\n",
    "\n",
    "for folderName, subfolders, filenames in os.walk('C:\\\\Users\\\\LENOVO\\\\OneDrive\\\\Área de Trabalho\\\\Python Automation'):\n",
    "    print(f'Current folder: {folderName}')\n",
    "    for subfolder in subfolders:\n",
    "        print(f'Subfolder of {folderName}: {subfolder}')\n",
    "    for filename in filenames:\n",
    "        print(f'File inside this folder: {filename}')\n",
    "    print('')  # Print a newline for better readability\n",
    "    if not subfolders and not filenames:\n",
    "        print(f'No subfolders or files in {folderName}')"
   ]
  }
 ],
 "metadata": {
  "kernelspec": {
   "display_name": "Python 3",
   "language": "python",
   "name": "python3"
  },
  "language_info": {
   "codemirror_mode": {
    "name": "ipython",
    "version": 3
   },
   "file_extension": ".py",
   "mimetype": "text/x-python",
   "name": "python",
   "nbconvert_exporter": "python",
   "pygments_lexer": "ipython3",
   "version": "3.12.6"
  }
 },
 "nbformat": 4,
 "nbformat_minor": 5
}
