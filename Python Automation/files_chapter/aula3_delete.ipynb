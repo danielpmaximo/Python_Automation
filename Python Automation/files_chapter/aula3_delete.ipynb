{
 "cells": [
  {
   "cell_type": "code",
   "execution_count": 2,
   "id": "5345d4b9",
   "metadata": {},
   "outputs": [
    {
     "name": "stdout",
     "output_type": "stream",
     "text": [
      "This is a test file.\n",
      "\n"
     ]
    }
   ],
   "source": [
    "import os\n",
    "\n",
    "# Create directory only if it does not exist\n",
    "if not os.path.exists(\"testdir\"):\n",
    "    os.mkdir(\"testdir\")\n",
    "with open(\"testdir/testfile.txt\", \"w\") as f:\n",
    "    f.write(\"This is a test file.\\n\")\n",
    "\n",
    "# print testfile.txt\n",
    "with open(\"testdir/testfile.txt\", \"r\") as f:\n",
    "    content = f.read()\n",
    "    print(content)"
   ]
  },
  {
   "cell_type": "code",
   "execution_count": 3,
   "id": "0a9ccce9",
   "metadata": {},
   "outputs": [
    {
     "name": "stdout",
     "output_type": "stream",
     "text": [
      "Directory 'testdir' has been deleted successfully.\n"
     ]
    }
   ],
   "source": [
    "# Delete the directory and its contents\n",
    "import shutil\n",
    "shutil.rmtree(\"testdir\")\n",
    "\n",
    "# Verify deletion\n",
    "if not os.path.exists(\"testdir\"):\n",
    "    print(\"Directory 'testdir' has been deleted successfully.\")"
   ]
  },
  {
   "cell_type": "markdown",
   "id": "6f68bef3",
   "metadata": {},
   "source": [
    "SEND TO TRASH"
   ]
  },
  {
   "cell_type": "code",
   "execution_count": 2,
   "id": "c57f3ffa",
   "metadata": {},
   "outputs": [
    {
     "name": "stdout",
     "output_type": "stream",
     "text": [
      "Directory 'send2trash_testdir' has been sent to trash successfully.\n"
     ]
    }
   ],
   "source": [
    "import send2trash\n",
    "import os\n",
    "\n",
    "# Create a new directory and file for send2trash example\n",
    "if not os.path.exists(\"send2trash_testdir\"):\n",
    "    os.mkdir(\"send2trash_testdir\")\n",
    "\n",
    "with open(\"send2trash_testdir/testfile.txt\", \"w\") as f:\n",
    "    f.write(\"This is a test file for send2trash.\\n\")\n",
    "\n",
    "# Send the directory to trash\n",
    "send2trash.send2trash(\"send2trash_testdir\")\n",
    "\n",
    "# Verify that the directory has been sent to trash\n",
    "if not os.path.exists(\"send2trash_testdir\"):\n",
    "    print(\"Directory 'send2trash_testdir' has been sent to trash successfully.\")"
   ]
  }
 ],
 "metadata": {
  "kernelspec": {
   "display_name": "Python 3",
   "language": "python",
   "name": "python3"
  },
  "language_info": {
   "codemirror_mode": {
    "name": "ipython",
    "version": 3
   },
   "file_extension": ".py",
   "mimetype": "text/x-python",
   "name": "python",
   "nbconvert_exporter": "python",
   "pygments_lexer": "ipython3",
   "version": "3.12.6"
  }
 },
 "nbformat": 4,
 "nbformat_minor": 5
}
