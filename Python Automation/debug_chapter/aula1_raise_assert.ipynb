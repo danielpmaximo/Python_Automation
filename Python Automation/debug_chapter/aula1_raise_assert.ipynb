{
 "cells": [
  {
   "cell_type": "code",
   "execution_count": 9,
   "id": "a8c6c568",
   "metadata": {},
   "outputs": [],
   "source": [
    "\"\"\"Prints a box with a given width and height.\n",
    "\n",
    "***************************\n",
    "*                         *\n",
    "*                         *\n",
    "*                         *\n",
    "*                         *\n",
    "***************************\n",
    "\n",
    "\"\"\"\n",
    "\n",
    "\n",
    "def boxPrint(symbol, width, height):\n",
    "    if len(symbol) != 1:\n",
    "        raise ValueError('Symbol must be a single character string.')\n",
    "    if (width < 2) or (height < 2):\n",
    "        raise ValueError('Width and height must be at least 2.')\n",
    "    \n",
    "    print (symbol * width)\n",
    "    \n",
    "    for i in range(height - 2):\n",
    "        print (symbol + ' ' * (width - 2) + symbol)\n",
    "    \n",
    "    print (symbol * width)\n"
   ]
  },
  {
   "cell_type": "code",
   "execution_count": 14,
   "id": "21edc662",
   "metadata": {},
   "outputs": [
    {
     "name": "stdout",
     "output_type": "stream",
     "text": [
      "aaaaaaaaaaaaaaaaaaaa\n",
      "a                  a\n",
      "aaaaaaaaaaaaaaaaaaaa\n"
     ]
    }
   ],
   "source": [
    "boxPrint('a', 20, 3)"
   ]
  },
  {
   "cell_type": "code",
   "execution_count": null,
   "id": "bd70d87d",
   "metadata": {},
   "outputs": [
    {
     "name": "stdout",
     "output_type": "stream",
     "text": [
      "The traceback info was written to errorLog.txt.\n"
     ]
    }
   ],
   "source": [
    "# create a traceback file for exception handling\n",
    "import traceback\n",
    "\n",
    "try:\n",
    "    raise Exception('This is an exception.')\n",
    "except:\n",
    "    errorFile = open('errorLog.txt', 'a')\n",
    "    errorFile.write(traceback.format_exc())\n",
    "    errorFile.close()\n",
    "    print('The traceback info was written to errorLog.txt.')\n"
   ]
  }
 ],
 "metadata": {
  "kernelspec": {
   "display_name": "Python 3",
   "language": "python",
   "name": "python3"
  },
  "language_info": {
   "codemirror_mode": {
    "name": "ipython",
    "version": 3
   },
   "file_extension": ".py",
   "mimetype": "text/x-python",
   "name": "python",
   "nbconvert_exporter": "python",
   "pygments_lexer": "ipython3",
   "version": "3.11.3"
  }
 },
 "nbformat": 4,
 "nbformat_minor": 5
}
