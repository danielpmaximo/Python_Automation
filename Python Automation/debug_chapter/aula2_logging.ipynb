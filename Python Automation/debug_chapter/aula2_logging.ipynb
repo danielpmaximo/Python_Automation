{
 "cells": [
  {
   "cell_type": "code",
   "execution_count": 7,
   "id": "4957931d",
   "metadata": {},
   "outputs": [
    {
     "data": {
      "text/plain": [
       "120"
      ]
     },
     "execution_count": 7,
     "metadata": {},
     "output_type": "execute_result"
    }
   ],
   "source": [
    "import logging\n",
    "\n",
    "# Set up logging format\n",
    "logging.basicConfig(level=logging.INFO, format='%(asctime)s - %(levelname)s - %(message)s')\n",
    "#logging.disable(logging.CRITICAL)  # Disable critical logs for cleaner output\n",
    "\n",
    "def factorial(n):\n",
    "    \"\"\"Calculate the factorial of a number.\"\"\"\n",
    "    logging.info(f\"Calculating factorial for {n}.\")\n",
    "    if n < 0:\n",
    "        logging.error(\"Factorial is not defined for negative numbers.\")\n",
    "        return None\n",
    "    elif n == 0 or n == 1:\n",
    "        return 1\n",
    "    else:\n",
    "        result = 1\n",
    "        for i in range(2, n + 1):\n",
    "            result *= i\n",
    "        logging.info(f\"Factorial of {n} is {result}.\")\n",
    "        return result\n",
    "    \n",
    "    logging.info(\"Function completed successfully.\")\n",
    "    \n",
    "\n",
    "factorial(5)"
   ]
  }
 ],
 "metadata": {
  "kernelspec": {
   "display_name": "Python 3",
   "language": "python",
   "name": "python3"
  },
  "language_info": {
   "codemirror_mode": {
    "name": "ipython",
    "version": 3
   },
   "file_extension": ".py",
   "mimetype": "text/x-python",
   "name": "python",
   "nbconvert_exporter": "python",
   "pygments_lexer": "ipython3",
   "version": "3.11.3"
  }
 },
 "nbformat": 4,
 "nbformat_minor": 5
}
