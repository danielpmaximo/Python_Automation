{
 "cells": [
  {
   "cell_type": "code",
   "execution_count": 19,
   "id": "f9b4e13c",
   "metadata": {},
   "outputs": [],
   "source": [
    "import pyautogui\n",
    "import time\n",
    "\n",
    "pyautogui.click(1376, 479)  # Click on the text editor\n",
    "pyautogui.write('# This was writen with pyautogui!', interval=0.1)\n",
    "pyautogui.press('enter')\n",
    "pyautogui.write('# hello after enter', interval=0.1)"
   ]
  },
  {
   "cell_type": "code",
   "execution_count": null,
   "id": "f480856c",
   "metadata": {},
   "outputs": [],
   "source": [
    "# This was writen with pyautogui!\n",
    "# hello after enter"
   ]
  }
 ],
 "metadata": {
  "kernelspec": {
   "display_name": "Python 3",
   "language": "python",
   "name": "python3"
  },
  "language_info": {
   "codemirror_mode": {
    "name": "ipython",
    "version": 3
   },
   "file_extension": ".py",
   "mimetype": "text/x-python",
   "name": "python",
   "nbconvert_exporter": "python",
   "pygments_lexer": "ipython3",
   "version": "3.11.3"
  }
 },
 "nbformat": 4,
 "nbformat_minor": 5
}
