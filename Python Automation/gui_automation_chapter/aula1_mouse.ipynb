{
 "cells": [
  {
   "cell_type": "code",
   "execution_count": 1,
   "id": "305e115a",
   "metadata": {},
   "outputs": [
    {
     "name": "stdout",
     "output_type": "stream",
     "text": [
      "Collecting pyautogui\n",
      "  Downloading PyAutoGUI-0.9.54.tar.gz (61 kB)\n",
      "  Installing build dependencies: started\n",
      "  Installing build dependencies: finished with status 'done'\n",
      "  Getting requirements to build wheel: started\n",
      "  Getting requirements to build wheel: finished with status 'done'\n",
      "  Preparing metadata (pyproject.toml): started\n",
      "  Preparing metadata (pyproject.toml): finished with status 'done'\n",
      "Collecting pymsgbox (from pyautogui)\n",
      "  Downloading PyMsgBox-1.0.9.tar.gz (18 kB)\n",
      "  Installing build dependencies: started\n",
      "  Installing build dependencies: finished with status 'done'\n",
      "  Getting requirements to build wheel: started\n",
      "  Getting requirements to build wheel: finished with status 'done'\n",
      "  Preparing metadata (pyproject.toml): started\n",
      "  Preparing metadata (pyproject.toml): finished with status 'done'\n",
      "Collecting pytweening>=1.0.4 (from pyautogui)\n",
      "  Downloading pytweening-1.2.0.tar.gz (171 kB)\n",
      "  Installing build dependencies: started\n",
      "  Installing build dependencies: finished with status 'done'\n",
      "  Getting requirements to build wheel: started\n",
      "  Getting requirements to build wheel: finished with status 'done'\n",
      "  Preparing metadata (pyproject.toml): started\n",
      "  Preparing metadata (pyproject.toml): finished with status 'done'\n",
      "Collecting pyscreeze>=0.1.21 (from pyautogui)\n",
      "  Downloading pyscreeze-1.0.1.tar.gz (27 kB)\n",
      "  Installing build dependencies: started\n",
      "  Installing build dependencies: finished with status 'done'\n",
      "  Getting requirements to build wheel: started\n",
      "  Getting requirements to build wheel: finished with status 'done'\n",
      "  Preparing metadata (pyproject.toml): started\n",
      "  Preparing metadata (pyproject.toml): finished with status 'done'\n",
      "Collecting pygetwindow>=0.0.5 (from pyautogui)\n",
      "  Downloading PyGetWindow-0.0.9.tar.gz (9.7 kB)\n",
      "  Installing build dependencies: started\n",
      "  Installing build dependencies: finished with status 'done'\n",
      "  Getting requirements to build wheel: started\n",
      "  Getting requirements to build wheel: finished with status 'done'\n",
      "  Preparing metadata (pyproject.toml): started\n",
      "  Preparing metadata (pyproject.toml): finished with status 'done'\n",
      "Collecting mouseinfo (from pyautogui)\n",
      "  Downloading MouseInfo-0.1.3.tar.gz (10 kB)\n",
      "  Installing build dependencies: started\n",
      "  Installing build dependencies: finished with status 'done'\n",
      "  Getting requirements to build wheel: started\n",
      "  Getting requirements to build wheel: finished with status 'done'\n",
      "  Preparing metadata (pyproject.toml): started\n",
      "  Preparing metadata (pyproject.toml): finished with status 'done'\n",
      "Collecting pyrect (from pygetwindow>=0.0.5->pyautogui)\n",
      "  Downloading PyRect-0.2.0.tar.gz (17 kB)\n",
      "  Installing build dependencies: started\n",
      "  Installing build dependencies: finished with status 'done'\n",
      "  Getting requirements to build wheel: started\n",
      "  Getting requirements to build wheel: finished with status 'done'\n",
      "  Preparing metadata (pyproject.toml): started\n",
      "  Preparing metadata (pyproject.toml): finished with status 'done'\n",
      "Requirement already satisfied: Pillow>=9.3.0 in c:\\users\\lenovo\\appdata\\local\\programs\\python\\python311\\lib\\site-packages (from pyscreeze>=0.1.21->pyautogui) (10.1.0)\n",
      "Collecting pyperclip (from mouseinfo->pyautogui)\n",
      "  Using cached pyperclip-1.9.0.tar.gz (20 kB)\n",
      "  Installing build dependencies: started\n",
      "  Installing build dependencies: finished with status 'done'\n",
      "  Getting requirements to build wheel: started\n",
      "  Getting requirements to build wheel: finished with status 'done'\n",
      "  Preparing metadata (pyproject.toml): started\n",
      "  Preparing metadata (pyproject.toml): finished with status 'done'\n",
      "Building wheels for collected packages: pyautogui, pygetwindow, pyscreeze, pytweening, mouseinfo, pymsgbox, pyperclip, pyrect\n",
      "  Building wheel for pyautogui (pyproject.toml): started\n",
      "  Building wheel for pyautogui (pyproject.toml): finished with status 'done'\n",
      "  Created wheel for pyautogui: filename=pyautogui-0.9.54-py3-none-any.whl size=37707 sha256=efd8c68609dfd1a55a046176287d09bb9572f9a2e2f0e9674ba1446271d65bb0\n",
      "  Stored in directory: c:\\users\\lenovo\\appdata\\local\\pip\\cache\\wheels\\95\\dc\\b1\\fe122b791e0db8bf439a0e6e1d2628e48f10bf430cae13521b\n",
      "  Building wheel for pygetwindow (pyproject.toml): started\n",
      "  Building wheel for pygetwindow (pyproject.toml): finished with status 'done'\n",
      "  Created wheel for pygetwindow: filename=pygetwindow-0.0.9-py3-none-any.whl size=11137 sha256=8b34f0510b2ae0878b1b14e7a0f678a9ec5167dcd680f13030ad84f48d3e86a8\n",
      "  Stored in directory: c:\\users\\lenovo\\appdata\\local\\pip\\cache\\wheels\\07\\75\\0b\\7ca0b598eb4c21d43ba4bcc78a0538dfcf803a5997da33bc19\n",
      "  Building wheel for pyscreeze (pyproject.toml): started\n",
      "  Building wheel for pyscreeze (pyproject.toml): finished with status 'done'\n",
      "  Created wheel for pyscreeze: filename=pyscreeze-1.0.1-py3-none-any.whl size=14481 sha256=65b09e36f37dcdd418426f51c1416d762e6c7c1bdbe281cd35971477352421f4\n",
      "  Stored in directory: c:\\users\\lenovo\\appdata\\local\\pip\\cache\\wheels\\cd\\e3\\dd\\267b393d8e8f607e47194942740d080d9bfd835cd4375a3de1\n",
      "  Building wheel for pytweening (pyproject.toml): started\n",
      "  Building wheel for pytweening (pyproject.toml): finished with status 'done'\n",
      "  Created wheel for pytweening: filename=pytweening-1.2.0-py3-none-any.whl size=8135 sha256=d23a052be7c230137580dfeeed6ec738a4ea7c1f44162f96298354c70c54cb84\n",
      "  Stored in directory: c:\\users\\lenovo\\appdata\\local\\pip\\cache\\wheels\\db\\81\\dc\\0d61a3c9614f288e057ab63924e2a49edbeed4ffc916dcda1e\n",
      "  Building wheel for mouseinfo (pyproject.toml): started\n",
      "  Building wheel for mouseinfo (pyproject.toml): finished with status 'done'\n",
      "  Created wheel for mouseinfo: filename=mouseinfo-0.1.3-py3-none-any.whl size=10967 sha256=6db87d0eb887fb3009829f4a7bd825c66df4396db3ab2bd0647b6b3798b495d6\n",
      "  Stored in directory: c:\\users\\lenovo\\appdata\\local\\pip\\cache\\wheels\\20\\0b\\7f\\939ac9ff785b09951c706150537572c00123412f260a6024f3\n",
      "  Building wheel for pymsgbox (pyproject.toml): started\n",
      "  Building wheel for pymsgbox (pyproject.toml): finished with status 'done'\n",
      "  Created wheel for pymsgbox: filename=pymsgbox-1.0.9-py3-none-any.whl size=7467 sha256=18fc5faeab2007cef599d08b30950d0c70af9db965cd968d747fcf3b65b09394\n",
      "  Stored in directory: c:\\users\\lenovo\\appdata\\local\\pip\\cache\\wheels\\85\\92\\63\\e126ee5f33d8f2ed04f96e43ef5df7270a2f331848752e8662\n",
      "  Building wheel for pyperclip (pyproject.toml): started\n",
      "  Building wheel for pyperclip (pyproject.toml): finished with status 'done'\n",
      "  Created wheel for pyperclip: filename=pyperclip-1.9.0-py3-none-any.whl size=11117 sha256=2266c54238340e8e7b089e5d1fe8b7706caddf2390faeb19c29b091c8d1d651b\n",
      "  Stored in directory: c:\\users\\lenovo\\appdata\\local\\pip\\cache\\wheels\\e8\\e7\\56\\591cb88ba1783b38c40d584026e766aac9c3a048e34128ce8b\n",
      "  Building wheel for pyrect (pyproject.toml): started\n",
      "  Building wheel for pyrect (pyproject.toml): finished with status 'done'\n",
      "  Created wheel for pyrect: filename=pyrect-0.2.0-py2.py3-none-any.whl size=11306 sha256=7f3d23ffb842caecb98522e87b396284b6be772c3d2cb328fc938c54eb5bedbc\n",
      "  Stored in directory: c:\\users\\lenovo\\appdata\\local\\pip\\cache\\wheels\\c4\\e9\\fc\\b7a666dd4f9a3168fb44d643079b41d36ddab52f470707e820\n",
      "Successfully built pyautogui pygetwindow pyscreeze pytweening mouseinfo pymsgbox pyperclip pyrect\n",
      "Installing collected packages: pytweening, pyrect, pyperclip, pymsgbox, pyscreeze, pygetwindow, mouseinfo, pyautogui\n",
      "Successfully installed mouseinfo-0.1.3 pyautogui-0.9.54 pygetwindow-0.0.9 pymsgbox-1.0.9 pyperclip-1.9.0 pyrect-0.2.0 pyscreeze-1.0.1 pytweening-1.2.0\n",
      "Note: you may need to restart the kernel to use updated packages.\n"
     ]
    },
    {
     "name": "stderr",
     "output_type": "stream",
     "text": [
      "\n",
      "[notice] A new release of pip is available: 24.2 -> 25.1.1\n",
      "[notice] To update, run: python.exe -m pip install --upgrade pip\n"
     ]
    }
   ],
   "source": [
    "%pip install pyautogui"
   ]
  },
  {
   "cell_type": "code",
   "execution_count": 8,
   "id": "1e0b02ce",
   "metadata": {},
   "outputs": [
    {
     "data": {
      "text/plain": [
       "Size(width=1920, height=1080)"
      ]
     },
     "execution_count": 8,
     "metadata": {},
     "output_type": "execute_result"
    }
   ],
   "source": [
    "import pyautogui\n",
    "pyautogui.size() # This will return the size of the primary monitor as a tuple (width, height)"
   ]
  },
  {
   "cell_type": "code",
   "execution_count": 7,
   "id": "bdc868ed",
   "metadata": {},
   "outputs": [
    {
     "data": {
      "text/plain": [
       "Point(x=1259, y=616)"
      ]
     },
     "execution_count": 7,
     "metadata": {},
     "output_type": "execute_result"
    }
   ],
   "source": [
    "pyautogui.position() # Get the current mouse position"
   ]
  },
  {
   "cell_type": "code",
   "execution_count": 9,
   "id": "cf62dd0b",
   "metadata": {},
   "outputs": [],
   "source": [
    "pyautogui.moveTo(100, 100, duration=1) # Move the mouse to the position (100, 100) over 1 second"
   ]
  },
  {
   "cell_type": "code",
   "execution_count": 11,
   "id": "b063868c",
   "metadata": {},
   "outputs": [],
   "source": [
    "pyautogui.moveRel(50, 50, duration=1) # Move the mouse relative to its current position by (50, 50) over 1 second"
   ]
  },
  {
   "cell_type": "code",
   "execution_count": null,
   "id": "a3784b9b",
   "metadata": {},
   "outputs": [
    {
     "data": {
      "text/plain": [
       "Point(x=1032, y=1043)"
      ]
     },
     "execution_count": 12,
     "metadata": {},
     "output_type": "execute_result"
    }
   ],
   "source": [
    "pyautogui.position() # position of windows explorer"
   ]
  },
  {
   "cell_type": "code",
   "execution_count": null,
   "id": "85df63ce",
   "metadata": {},
   "outputs": [],
   "source": [
    "pyautogui.click(1032, 1043) # abre windows explorer\n",
    "#pyautogui.click(1032, 1043, clicks=2) # double click to open\n",
    "#pyautogui.rightclick(1032, 1043)\n",
    "#pyautogui.middleclick(1032, 1043)\n",
    "#pyautogui.dragRel(50, 50, duration=1) # Drag the mouse relative to its current position by (50, 50) over 1 second\n",
    "#pyautogui.scroll(100) # Scroll up 100 units\n",
    "\n"
   ]
  }
 ],
 "metadata": {
  "kernelspec": {
   "display_name": "Python 3",
   "language": "python",
   "name": "python3"
  },
  "language_info": {
   "codemirror_mode": {
    "name": "ipython",
    "version": 3
   },
   "file_extension": ".py",
   "mimetype": "text/x-python",
   "name": "python",
   "nbconvert_exporter": "python",
   "pygments_lexer": "ipython3",
   "version": "3.11.3"
  }
 },
 "nbformat": 4,
 "nbformat_minor": 5
}
